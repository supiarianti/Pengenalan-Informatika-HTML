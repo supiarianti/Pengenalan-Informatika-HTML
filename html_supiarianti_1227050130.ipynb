{
 "cells": [
  {
   "cell_type": "markdown",
   "metadata": {},
   "source": [
    "<!DOCTYPE html>\n",
    "<html>\n",
    "<style>\n",
    "table, th, td {\n",
    "  border:1px solid black;\n",
    "}\n",
    "</style>\n",
    "<body>\n",
    "<h2><center>Data Diri</center></h2>\n",
    "<table style=\"width:100%\">\n",
    "  <tr>\n",
    "    <th>Nama</th>\n",
    "    <th>Alamat</th>\n",
    "    <th>Nomer Telepon</th>\n",
    "  </tr>\n",
    "  <tr>\n",
    "    <td>Supi Arianti</td>\n",
    "    <td>Cidaun</td>\n",
    "    <td>085723772676</td>\n",
    "  </tr>\n",
    "</table>\n",
    "</body>\n",
    "</html>"
   ]
  }
 ],
 "metadata": {
  "language_info": {
   "name": "python"
  },
  "orig_nbformat": 4
 },
 "nbformat": 4,
 "nbformat_minor": 2
}
